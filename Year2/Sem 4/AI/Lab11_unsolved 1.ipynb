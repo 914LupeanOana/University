{
 "cells": [
  {
   "cell_type": "markdown",
   "metadata": {},
   "source": [
    "# Lab 11: Evolutionary computation\n",
    "\n",
    "### Consider the following example:\n",
    "\n",
    "Determine the minimum of the function $f(x)= x_1^2+...+x_n^2$ with $x_i \\in [-5.12, 5.12]$, $i \\in \\overline{(1, n)}$\n",
    "\n",
    "We have an example of steady state genetic algorithm with:  representation an array of real numbers; 100 individuals; crossover $$child = \\alpha \\cdot (parent1 - parent2) + parent2 ;$$ mutation - reinitialise on a random position the individual's value."
   ]
  },
  {
   "cell_type": "code",
   "execution_count": 7,
   "metadata": {
    "pycharm": {
     "is_executing": true
    }
   },
   "outputs": [
    {
     "name": "stdout",
     "output_type": "stream",
     "text": [
      "Result: The detected minimum point after 10000 iterations is f(0.00 0.00) = 0.00\n"
     ]
    }
   ],
   "source": [
    "\n",
    "\n",
    "from random import randint, random\n",
    "from operator import add\n",
    "from math import cos, pi\n",
    "\n",
    "\n",
    "def individual(length, vmin, vmax):\n",
    "    '''\n",
    "    Create a member of the population - an individual\n",
    "\n",
    "    length: the number of genes (components)\n",
    "    vmin: the minimum possible value \n",
    "    vmax: the maximum possible value \n",
    "    '''\n",
    "    return [ (random()*(vmax-vmin)+vmin) for x in range(length) ]\n",
    "    \n",
    "def population(count, length, vmin, vmax):\n",
    "    \"\"\"\n",
    "    Create a number of individuals (i.e. a population).\n",
    "\n",
    "    count: the number of individuals in the population\n",
    "    length: the number of values per individual\n",
    "    vmin: the minimum possible value \n",
    "    vmax: the maximum possible value \n",
    "    \"\"\"\n",
    "    return [ individual(length, vmin, vmax) for x in range(count) ]\n",
    "\n",
    "def fitness(individual):\n",
    "    \"\"\"\n",
    "    Determine the fitness of an individual. Lower is better.(min problem)\n",
    "    For this problem we have the Rastrigin function\n",
    "    \n",
    "    individual: the individual to evaluate\n",
    "    \"\"\"\n",
    "    n=len(individual)\n",
    "    f=0;\n",
    "    for i in range(n):\n",
    "        f=f+individual[i]*individual[i]\n",
    "    return f\n",
    "    \n",
    "def mutate(individual, pM, vmin, vmax): \n",
    "    '''\n",
    "    Performs a mutation on an individual with the probability of pM.\n",
    "    If the event will take place, at a random position a new value will be\n",
    "    generated in the interval [vmin, vmax]\n",
    "\n",
    "    individual:the individual to be mutated\n",
    "    pM: the probability the mutation to occure\n",
    "    vmin: the minimum possible value \n",
    "    vmax: the maximum possible value\n",
    "    '''\n",
    "    if pM > random():\n",
    "            p = randint(0, len(individual)-1)\n",
    "            individual[p] = random()*(vmax-vmin)+vmin\n",
    "    return individual\n",
    "    \n",
    "def crossover(parent1, parent2):\n",
    "    '''\n",
    "    crossover between 2 parents\n",
    "    '''\n",
    "    child=[]\n",
    "    alpha=random()\n",
    "    for x in range(len(parent1)):\n",
    "        child.append(alpha*(parent1[x]-parent2[x])+parent2[x])\n",
    "    return child\n",
    "\n",
    "def iteration(pop, pM, vmin, vmax):\n",
    "    '''\n",
    "    an iteration\n",
    "\n",
    "    pop: the current population\n",
    "    pM: the probability the mutation to occure\n",
    "    vmin: the minimum possible value \n",
    "    vmax: the maximum possible value\n",
    "    '''\n",
    "    i1=randint(0,len(pop)-1)\n",
    "    i2=randint(0,len(pop)-1)\n",
    "    if (i1!=i2):\n",
    "        c=crossover(pop[i1],pop[i2])\n",
    "        c=mutate(c, pM, vmin, vmax)\n",
    "        f1=fitness(pop[i1])\n",
    "        f2=fitness(pop[i2])\n",
    "        '''\n",
    "        the repeated evaluation of the parents can be avoided\n",
    "        if  next to the values stored in the individuals we \n",
    "        keep also their fitnesses \n",
    "        '''\n",
    "        fc=fitness(c)\n",
    "        if(f1>f2) and (f1>fc):\n",
    "            pop[i1]=c\n",
    "        if(f2>f1) and (f2>fc):\n",
    "            pop[i2]=c\n",
    "    return pop\n",
    "\n",
    "def main(noIteratii=10000):\n",
    "    #PARAMETERS:\n",
    "    \n",
    "    #population size\n",
    "    dimPopulation = 100\n",
    "    #individual size\n",
    "    dimIndividual = 2\n",
    "    #the boundries of the search interval\n",
    "    vmin = -5.12\n",
    "    vmax = 5.12\n",
    "    #the mutation probability\n",
    "    pM=0.01\n",
    "    \n",
    "    P = population(dimPopulation, dimIndividual, vmin, vmax)\n",
    "    for i in range(noIteratii):\n",
    "        P = iteration(P, pM, vmin, vmax)\n",
    "\n",
    "    #print the best individual\n",
    "    graded = [ (fitness(x), x) for x in P]\n",
    "    graded =  sorted(graded)\n",
    "    result=graded[0]\n",
    "    fitnessOptim=result[0]\n",
    "    individualOptim=result[1]\n",
    "    print('Result: The detected minimum point after %d iterations is f(%3.2f %3.2f) = %3.2f'% \\\n",
    "          (noIteratii,individualOptim[0],individualOptim[1], fitnessOptim) )\n",
    "        \n",
    "main()"
   ]
  },
  {
   "cell_type": "markdown",
   "metadata": {},
   "source": [
    "Exercise 1:  Construct a similar algorithm to the one provided as an example for the Bukin function N.6 (see previous lab for this function).\n"
   ]
  },
  {
   "cell_type": "code",
   "execution_count": 15,
   "metadata": {
    "pycharm": {
     "is_executing": true
    }
   },
   "outputs": [
    {
     "name": "stdout",
     "output_type": "stream",
     "text": [
      "Result: The detected minimum point after 1000 iterations is f(-8.62, 0.74) = 0.52\n"
     ]
    }
   ],
   "source": [
    "from random import uniform, randint\n",
    "\n",
    "def individual():\n",
    "    '''\n",
    "    Create a member of the population - an individual.\n",
    "\n",
    "    '''\n",
    "    return [uniform(-15, -5), uniform(-3, 3)]\n",
    "\n",
    "def population(count):\n",
    "    \"\"\"\n",
    "    Create a number of individuals (i.e. a population).\n",
    "\n",
    "    count: the number of individuals in the population.\n",
    "    \"\"\"\n",
    "    return [individual() for x in range(count)]\n",
    "\n",
    "def fitness(individual):\n",
    "    \"\"\"\n",
    "    Determine the fitness of an individual. Lower is better (minimization problem).\n",
    "    For this problem we have the Bukin function.\n",
    "\n",
    "    individual: the individual to evaluate.\n",
    "    \"\"\"\n",
    "    x, y = individual\n",
    "    return 100 * abs(y - 0.01 * x**2)**0.5 + 0.01 * abs(x + 10)\n",
    "\n",
    "def mutate(individual, indpb):\n",
    "    '''\n",
    "    Performs a mutation on an individual with the probability of indpb.\n",
    "\n",
    "    individual: the individual to be mutated.\n",
    "    indpb: the probability the mutation to occur.\n",
    "    '''\n",
    "    if indpb > uniform(0.0, 1.0):\n",
    "        individual[0] = uniform(-15, -5)\n",
    "        individual[1] = uniform(-3, 3)\n",
    "    return individual\n",
    "\n",
    "def crossover(parent1, parent2):\n",
    "    '''\n",
    "    Crossover between 2 parents.\n",
    "    '''\n",
    "    child=[]\n",
    "    alpha=uniform(0, 1)\n",
    "    for x in range(len(parent1)):\n",
    "        child.append(alpha*(parent1[x]-parent2[x])+parent2[x])\n",
    "    return child\n",
    "\n",
    "def iteration(pop, indpb):\n",
    "    '''\n",
    "    An iteration.\n",
    "\n",
    "    pop: the current population.\n",
    "    indpb: the probability the mutation to occur.\n",
    "    '''\n",
    "    i1 = randint(0, len(pop)-1)\n",
    "    i2 = randint(0, len(pop)-1)\n",
    "    if i1 != i2:\n",
    "        c = crossover(pop[i1], pop[i2])\n",
    "        c = mutate(c, indpb)\n",
    "        f1 = fitness(pop[i1])\n",
    "        f2 = fitness(pop[i2])\n",
    "        fc = fitness(c)\n",
    "        if (f1 > f2) and (f1 > fc):\n",
    "            pop[i1] = c\n",
    "        elif (f2 > f1) and (f2 > fc):\n",
    "            pop[i2] = c\n",
    "    return pop\n",
    "\n",
    "def main():\n",
    "    # PARAMETERS:\n",
    "    \n",
    "    # population size\n",
    "    dim_population = 100\n",
    "    # the mutation probability\n",
    "    indpb = 0.05\n",
    "    # number of iterations\n",
    "    no_iterations = 1000\n",
    "    \n",
    "    pop = population(dim_population)\n",
    "    for i in range(no_iterations):\n",
    "        pop = iteration(pop, indpb)\n",
    "    \n",
    "    # print the best individual\n",
    "    best_individual = min(pop, key=fitness)\n",
    "    print(f\"Result: The detected minimum point after {no_iterations} iterations is f({best_individual[0]:.2f}, {best_individual[1]:.2f}) = {fitness(best_individual):.2f}\")\n",
    "\n",
    "\n",
    "main()\n"
   ]
  },
  {
   "cell_type": "markdown",
   "metadata": {},
   "source": [
    "Consider the knapsack problem:\n",
    "\n",
    "Consider a Knapsack with a total volum equal with $V_{max}$.\n",
    "\n",
    "There are $n$ objects, with values $(p_i)_{n}$ and volumes $(v_i)_n$.\n",
    "\n",
    "Solve this problem using a generationist Genetic Algorithm, with a binary representation.\n",
    "\n",
    "Exercise 2: Initialization\n",
    "Objective: Implement the initialization step of a genetic algorithm."
   ]
  },
  {
   "cell_type": "code",
   "execution_count": 44,
   "metadata": {},
   "outputs": [
    {
     "name": "stdout",
     "output_type": "stream",
     "text": [
      "[[1, 0, 1, 1, 0, 1, 0, 1], [1, 0, 1, 1, 0, 0, 0, 0], [1, 0, 1, 0, 1, 0, 1, 1], [1, 1, 0, 1, 1, 1, 0, 0], [1, 1, 0, 1, 0, 1, 0, 1], [1, 0, 1, 0, 1, 0, 1, 0], [0, 0, 1, 1, 0, 0, 1, 0], [0, 1, 0, 0, 0, 0, 1, 0], [1, 1, 1, 1, 0, 1, 1, 1], [1, 0, 1, 1, 1, 0, 0, 1]]\n"
     ]
    }
   ],
   "source": [
    "import random\n",
    "\n",
    "def initialize_population(population_size, chromosome_length):\n",
    "    # generate random a population with population_size number of individuals\n",
    "    # each individual with the size chromosome_length\n",
    "    # IN:  population_size, chromosome_length\n",
    "    # OUT: population\n",
    "    \n",
    "    population = []\n",
    "    for i in range(population_size):\n",
    "        individual = []\n",
    "        for j in range(chromosome_length):\n",
    "            gene = random.randint(0, 1)\n",
    "            individual.append(gene)\n",
    "        population.append(individual)\n",
    "    \n",
    "    return population\n",
    "\n",
    "\n",
    "# Test the initialization step\n",
    "population_size = 10\n",
    "chromosome_length = 8\n",
    "population = initialize_population(population_size, chromosome_length)\n",
    "print(population)\n",
    "\n"
   ]
  },
  {
   "cell_type": "markdown",
   "metadata": {},
   "source": [
    "Exercise 3: Fitness Evaluation\n",
    "\n",
    "Objective: Implement the fitness evaluation step of a genetic algorithm."
   ]
  },
  {
   "cell_type": "code",
   "execution_count": 45,
   "metadata": {},
   "outputs": [
    {
     "name": "stdout",
     "output_type": "stream",
     "text": [
      "[5, 3, 5, 5, 5, 4, 3, 2, 7, 5]\n"
     ]
    }
   ],
   "source": [
    "def evaluate_fitness(population):\n",
    "    # evaluate the fitness of each individual in the population\n",
    "    # IN:  population\n",
    "    # OUT: fitness_scores\n",
    "\n",
    "    fitness_scores = []\n",
    "    for individual in population:\n",
    "        # calculate the fitness score of the individual\n",
    "        # here, we can simply use the sum of the values in the chromosome as the fitness score\n",
    "        fitness_score = sum(individual)\n",
    "        fitness_scores.append(fitness_score)\n",
    "\n",
    "    return fitness_scores\n",
    "\n",
    "    \n",
    "# Test the fitness evaluation step\n",
    "fitness_scores = evaluate_fitness(population)\n",
    "print(fitness_scores)"
   ]
  },
  {
   "cell_type": "markdown",
   "metadata": {},
   "source": [
    "Exercise 4: Selection\n",
    "\n",
    "Objective: Implement the selection step of a genetic algorithm."
   ]
  },
  {
   "cell_type": "code",
   "execution_count": 46,
   "metadata": {},
   "outputs": [
    {
     "name": "stdout",
     "output_type": "stream",
     "text": [
      "([1, 0, 1, 0, 1, 0, 1, 1], [1, 1, 1, 1, 0, 1, 1, 1])\n"
     ]
    }
   ],
   "source": [
    "def select_parents(population, fitness_scores):\n",
    "    # calculate the total fitness of the population\n",
    "    total_fitness = sum(fitness_scores)\n",
    "    \n",
    "    # select the first parent\n",
    "    cumulative_fitness = 0\n",
    "    random_value = random.uniform(0, total_fitness)\n",
    "    for i, fitness_score in enumerate(fitness_scores):\n",
    "        cumulative_fitness += fitness_score\n",
    "        if cumulative_fitness > random_value:\n",
    "            parent1 = population[i]\n",
    "            break\n",
    "            \n",
    "    # select the second parent\n",
    "    cumulative_fitness = 0\n",
    "    random_value = random.uniform(0, total_fitness)\n",
    "    for i, fitness_score in enumerate(fitness_scores):\n",
    "        cumulative_fitness += fitness_score\n",
    "        if cumulative_fitness > random_value:\n",
    "            parent2 = population[i]\n",
    "            break\n",
    "    \n",
    "    return (parent1, parent2)\n",
    "\n",
    "    \n",
    "# Test the selection step\n",
    "parents = select_parents(population, fitness_scores)\n",
    "print(parents)"
   ]
  },
  {
   "cell_type": "markdown",
   "metadata": {},
   "source": [
    "Exercise 5: Crossover\n",
    "\n",
    "Objective: Implement the crossover step of a genetic algorithm."
   ]
  },
  {
   "cell_type": "code",
   "execution_count": 47,
   "metadata": {},
   "outputs": [
    {
     "name": "stdout",
     "output_type": "stream",
     "text": [
      "([1, 0, 1, 0, 1, 0, 1, 1], [1, 1, 1, 1, 0, 1, 1, 1])\n"
     ]
    }
   ],
   "source": [
    "def crossover(parents):\n",
    "    # create two new offspring by combining the parents\n",
    "    # IN:  parents\n",
    "    # OUT: offspring\n",
    "\n",
    "    parent1, parent2 = parents\n",
    "    crossover_point = random.randint(1, len(parent1) - 1)\n",
    "    offspring1 = parent1[:crossover_point] + parent2[crossover_point:]\n",
    "    offspring2 = parent2[:crossover_point] + parent1[crossover_point:]\n",
    "    return offspring1, offspring2\n",
    "\n",
    "# Test the crossover step\n",
    "offspring = crossover(parents)\n",
    "print(offspring)\n"
   ]
  },
  {
   "cell_type": "markdown",
   "metadata": {},
   "source": [
    "Exercise 6: Mutation\n",
    "\n",
    "Objective: Implement the mutation step of a genetic algorithm."
   ]
  },
  {
   "cell_type": "code",
   "execution_count": 48,
   "metadata": {},
   "outputs": [
    {
     "name": "stdout",
     "output_type": "stream",
     "text": [
      "[[1, 0, 1, 0, 1, 0, 0, 1], [1, 1, 1, 0, 0, 1, 1, 1]]\n"
     ]
    }
   ],
   "source": [
    "def mutate(chromosome, mutation_rate):\n",
    "    # mutate the chromosome by randomly flipping bits\n",
    "    # IN:  chromosome, mutation_rate\n",
    "    # OUT: mutated_chromosome\n",
    "    \n",
    "    mutated_chromosome = []\n",
    "    for gene in chromosome:\n",
    "        if random.random() < mutation_rate:\n",
    "            mutated_chromosome.append(int(not gene))\n",
    "        else:\n",
    "            mutated_chromosome.append(gene)\n",
    "    return mutated_chromosome\n",
    "\n",
    "\n",
    "# Test the mutation step\n",
    "mutation_rate = 0.1\n",
    "mutated_offspring = [mutate(child, mutation_rate) for child in offspring]\n",
    "print(mutated_offspring)\n",
    "\n"
   ]
  },
  {
   "cell_type": "markdown",
   "metadata": {},
   "source": [
    "Exercise 7: Complete Genetic Algorithm\n",
    "\n",
    "Objective: Combine all the steps of a genetic algorithm to solve a specific problem."
   ]
  },
  {
   "cell_type": "code",
   "execution_count": 49,
   "metadata": {},
   "outputs": [
    {
     "ename": "IndexError",
     "evalue": "list index out of range",
     "output_type": "error",
     "traceback": [
      "\u001B[0;31m---------------------------------------------------------------------------\u001B[0m",
      "\u001B[0;31mIndexError\u001B[0m                                Traceback (most recent call last)",
      "\u001B[0;32m/var/folders/y3/8rm8tbjj2q79ckx18vkzrf740000gn/T/ipykernel_45344/1696525042.py\u001B[0m in \u001B[0;36m<module>\u001B[0;34m\u001B[0m\n\u001B[1;32m     45\u001B[0m \u001B[0mmutation_rate\u001B[0m \u001B[0;34m=\u001B[0m \u001B[0;36m0.1\u001B[0m\u001B[0;34m\u001B[0m\u001B[0;34m\u001B[0m\u001B[0m\n\u001B[1;32m     46\u001B[0m \u001B[0;34m\u001B[0m\u001B[0m\n\u001B[0;32m---> 47\u001B[0;31m \u001B[0mfinal_population\u001B[0m \u001B[0;34m=\u001B[0m \u001B[0mgenetic_algorithm\u001B[0m\u001B[0;34m(\u001B[0m\u001B[0mpopulation_size\u001B[0m\u001B[0;34m,\u001B[0m \u001B[0mchromosome_length\u001B[0m\u001B[0;34m,\u001B[0m \u001B[0mgenerations\u001B[0m\u001B[0;34m,\u001B[0m \u001B[0mmutation_rate\u001B[0m\u001B[0;34m)\u001B[0m\u001B[0;34m\u001B[0m\u001B[0;34m\u001B[0m\u001B[0m\n\u001B[0m\u001B[1;32m     48\u001B[0m \u001B[0mprint\u001B[0m\u001B[0;34m(\u001B[0m\u001B[0mfinal_population\u001B[0m\u001B[0;34m)\u001B[0m\u001B[0;34m\u001B[0m\u001B[0;34m\u001B[0m\u001B[0m\n",
      "\u001B[0;32m/var/folders/y3/8rm8tbjj2q79ckx18vkzrf740000gn/T/ipykernel_45344/1696525042.py\u001B[0m in \u001B[0;36mgenetic_algorithm\u001B[0;34m(population_size, chromosome_length, generations, mutation_rate)\u001B[0m\n\u001B[1;32m     20\u001B[0m \u001B[0;34m\u001B[0m\u001B[0m\n\u001B[1;32m     21\u001B[0m             \u001B[0;31m# your code here\u001B[0m\u001B[0;34m\u001B[0m\u001B[0;34m\u001B[0m\u001B[0m\n\u001B[0;32m---> 22\u001B[0;31m         \u001B[0mparents\u001B[0m \u001B[0;34m=\u001B[0m \u001B[0mselect_parents\u001B[0m\u001B[0;34m(\u001B[0m\u001B[0mpopulation\u001B[0m\u001B[0;34m,\u001B[0m \u001B[0mfitness_scores\u001B[0m\u001B[0;34m)\u001B[0m\u001B[0;34m\u001B[0m\u001B[0;34m\u001B[0m\u001B[0m\n\u001B[0m\u001B[1;32m     23\u001B[0m \u001B[0;34m\u001B[0m\u001B[0m\n\u001B[1;32m     24\u001B[0m         \u001B[0;31m# Crossover\u001B[0m\u001B[0;34m\u001B[0m\u001B[0;34m\u001B[0m\u001B[0m\n",
      "\u001B[0;32m/var/folders/y3/8rm8tbjj2q79ckx18vkzrf740000gn/T/ipykernel_45344/2814786486.py\u001B[0m in \u001B[0;36mselect_parents\u001B[0;34m(population, fitness_scores)\u001B[0m\n\u001B[1;32m      9\u001B[0m         \u001B[0mcumulative_fitness\u001B[0m \u001B[0;34m+=\u001B[0m \u001B[0mfitness_score\u001B[0m\u001B[0;34m\u001B[0m\u001B[0;34m\u001B[0m\u001B[0m\n\u001B[1;32m     10\u001B[0m         \u001B[0;32mif\u001B[0m \u001B[0mcumulative_fitness\u001B[0m \u001B[0;34m>\u001B[0m \u001B[0mrandom_value\u001B[0m\u001B[0;34m:\u001B[0m\u001B[0;34m\u001B[0m\u001B[0;34m\u001B[0m\u001B[0m\n\u001B[0;32m---> 11\u001B[0;31m             \u001B[0mparent1\u001B[0m \u001B[0;34m=\u001B[0m \u001B[0mpopulation\u001B[0m\u001B[0;34m[\u001B[0m\u001B[0mi\u001B[0m\u001B[0;34m]\u001B[0m\u001B[0;34m\u001B[0m\u001B[0;34m\u001B[0m\u001B[0m\n\u001B[0m\u001B[1;32m     12\u001B[0m             \u001B[0;32mbreak\u001B[0m\u001B[0;34m\u001B[0m\u001B[0;34m\u001B[0m\u001B[0m\n\u001B[1;32m     13\u001B[0m \u001B[0;34m\u001B[0m\u001B[0m\n",
      "\u001B[0;31mIndexError\u001B[0m: list index out of range"
     ]
    }
   ],
   "source": [
    "def genetic_algorithm(population_size, chromosome_length, generations, mutation_rate):\n",
    "    \n",
    "    # complete genetic algorithm\n",
    "    # IN:  population_size, chromosome_length, generations, mutation_rate\n",
    "    # OUT: population\n",
    "\n",
    "\n",
    "    # initialize the population\n",
    "\n",
    "    # your code here\n",
    "    population = initialize_population(population_size, chromosome_length)\n",
    "\n",
    "    for _ in range(generations):\n",
    "        # Fitness evaluation\n",
    "        \n",
    "            # your code here\n",
    "        fitness_score = evaluate_fitness(population)\n",
    "        \n",
    "        # Selection\n",
    "        \n",
    "            # your code here\n",
    "        parents = select_parents(population, fitness_scores)\n",
    "        \n",
    "        # Crossover\n",
    "\n",
    "            # your code here\n",
    "        offspring = crossover(parents)\n",
    "        \n",
    "        # Mutation\n",
    "        \n",
    "            # your code here\n",
    "        mutated_offspring = [mutate(child, mutation_rate) for child in offspring]\n",
    "\n",
    "        # Replace the population with the new generation\n",
    "        \n",
    "            # your code here\n",
    "        population = mutated_offspring\n",
    "\n",
    "    return population\n",
    "\n",
    "# Test the complete genetic algorithm\n",
    "population_size = 10\n",
    "chromosome_length = 8\n",
    "generations = 100\n",
    "mutation_rate = 0.1\n",
    "\n",
    "final_population = genetic_algorithm(population_size, chromosome_length, generations, mutation_rate)\n",
    "print(final_population)\n"
   ]
  },
  {
   "cell_type": "markdown",
   "metadata": {},
   "source": [
    "Exercise 8: Extract the result from the final population\n",
    "\n",
    "Objective: Get the best individual from the final population.\n"
   ]
  },
  {
   "cell_type": "code",
   "execution_count": null,
   "metadata": {},
   "outputs": [],
   "source": [
    "# determine the best individual from the final population and print it out\n",
    "\n",
    "# your code here\n",
    "\n"
   ]
  }
 ],
 "metadata": {
  "kernel_info": {
   "name": "python"
  },
  "kernelspec": {
   "display_name": "Python 3 (ipykernel)",
   "language": "python",
   "name": "python3"
  },
  "language_info": {
   "codemirror_mode": {
    "name": "ipython",
    "version": 3
   },
   "file_extension": ".py",
   "mimetype": "text/x-python",
   "name": "python",
   "nbconvert_exporter": "python",
   "pygments_lexer": "ipython3",
   "version": "3.9.13"
  },
  "nteract": {
   "version": "nteract-front-end@1.0.0"
  }
 },
 "nbformat": 4,
 "nbformat_minor": 2
}
